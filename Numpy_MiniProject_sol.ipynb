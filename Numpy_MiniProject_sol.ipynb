{
  "nbformat": 4,
  "nbformat_minor": 0,
  "metadata": {
    "colab": {
      "provenance": []
    },
    "kernelspec": {
      "name": "python3",
      "display_name": "Python 3"
    },
    "language_info": {
      "name": "python"
    }
  },
  "cells": [
    {
      "cell_type": "code",
      "source": [
        "#import the required libraries\n",
        "import numpy as np\n",
        "from numpy import genfromtxt"
      ],
      "metadata": {
        "id": "QOepuiVEQmVL"
      },
      "execution_count": 1,
      "outputs": []
    },
    {
      "cell_type": "code",
      "execution_count": 2,
      "metadata": {
        "id": "7xcB2zo-O0t-"
      },
      "outputs": [],
      "source": [
        "#give path of the source-file and store that path in a variable named census\n",
        "census = '/content/makeSenseOfCensus.csv'"
      ]
    },
    {
      "cell_type": "markdown",
      "source": [
        "# Loading the data"
      ],
      "metadata": {
        "id": "OiSJcx6GLcWT"
      }
    },
    {
      "cell_type": "markdown",
      "source": [
        "You have studied getfromtext in Numpy Classes, now is the time to put it into action :) Below is the half completed code, you have to substitute values for delimiter and skip_header in it for hte data to be properly read into a Data array. The output of the array has been shared with you guys followed by the code block"
      ],
      "metadata": {
        "id": "VxJZY3U1nsPN"
      }
    },
    {
      "cell_type": "code",
      "source": [
        "data = np.genfromtxt(census, delimiter = ',', skip_header = 1)\n",
        "print(\"\\nData:\\n\\n \", data)"
      ],
      "metadata": {
        "colab": {
          "base_uri": "https://localhost:8080/"
        },
        "id": "Fjx-kQkxQD7q",
        "outputId": "cbd2c849-8b95-417f-d52e-7438f256ea21"
      },
      "execution_count": 3,
      "outputs": [
        {
          "output_type": "stream",
          "name": "stdout",
          "text": [
            "\n",
            "Data:\n",
            "\n",
            "  [[39. 13.  4. ...  0. 40.  0.]\n",
            " [50. 13.  4. ...  0. 13.  0.]\n",
            " [38.  9.  4. ...  0. 40.  0.]\n",
            " ...\n",
            " [48. 13.  4. ...  0. 58.  1.]\n",
            " [40. 10.  4. ...  0. 40.  0.]\n",
            " [39. 13.  4. ...  0. 50.  1.]]\n"
          ]
        }
      ]
    },
    {
      "cell_type": "markdown",
      "source": [
        "# Printing the type of data"
      ],
      "metadata": {
        "id": "lLoQJxpdOCfA"
      }
    },
    {
      "cell_type": "code",
      "source": [
        "data.dtype"
      ],
      "metadata": {
        "colab": {
          "base_uri": "https://localhost:8080/"
        },
        "id": "xkPasCIhQ1qC",
        "outputId": "31bb7bf4-fbd1-4c53-b86e-d8f607e00bad"
      },
      "execution_count": 4,
      "outputs": [
        {
          "output_type": "execute_result",
          "data": {
            "text/plain": [
              "dtype('float64')"
            ]
          },
          "metadata": {},
          "execution_count": 4
        }
      ]
    },
    {
      "cell_type": "markdown",
      "source": [
        "# Step 2 : Append the Data"
      ],
      "metadata": {
        "id": "QTSTCc7jVppG"
      }
    },
    {
      "cell_type": "markdown",
      "source": [
        "A new record [[50,9,4,1,0,0,40,0]] has been given to you. You are supposed to append this new record into the data using np.concatenate()"
      ],
      "metadata": {
        "id": "-gz1eP4sfRpc"
      }
    },
    {
      "cell_type": "code",
      "source": [
        "new_record = [[50,9,4,1,0,0,40,0]]"
      ],
      "metadata": {
        "id": "jokdR-EtS1dz"
      },
      "execution_count": 5,
      "outputs": []
    },
    {
      "cell_type": "markdown",
      "source": [
        "## Append 'new_record' (given) to 'data' using \"np.concatenate()\""
      ],
      "metadata": {
        "id": "qVKX1_leVwqh"
      }
    },
    {
      "cell_type": "code",
      "source": [
        "np.concatenate((data,new_record),axis=0)"
      ],
      "metadata": {
        "id": "V38I3c5rTJPQ",
        "colab": {
          "base_uri": "https://localhost:8080/"
        },
        "outputId": "5ccdf008-b92f-496c-f892-bcc8a166117b"
      },
      "execution_count": 6,
      "outputs": [
        {
          "output_type": "execute_result",
          "data": {
            "text/plain": [
              "array([[39., 13.,  4., ...,  0., 40.,  0.],\n",
              "       [50., 13.,  4., ...,  0., 13.,  0.],\n",
              "       [38.,  9.,  4., ...,  0., 40.,  0.],\n",
              "       ...,\n",
              "       [40., 10.,  4., ...,  0., 40.,  0.],\n",
              "       [39., 13.,  4., ...,  0., 50.,  1.],\n",
              "       [50.,  9.,  4., ...,  0., 40.,  0.]])"
            ]
          },
          "metadata": {},
          "execution_count": 6
        }
      ]
    },
    {
      "cell_type": "code",
      "source": [
        "#display after appending the new record at the end of the array."
      ],
      "metadata": {
        "colab": {
          "base_uri": "https://localhost:8080/"
        },
        "id": "QOWjaWI3TlP4",
        "outputId": "b87c4b40-64ac-4310-db00-99b1eaad2195"
      },
      "execution_count": null,
      "outputs": [
        {
          "output_type": "execute_result",
          "data": {
            "text/plain": [
              "array([[39., 13.,  4., ...,  0., 40.,  0.],\n",
              "       [50., 13.,  4., ...,  0., 13.,  0.],\n",
              "       [38.,  9.,  4., ...,  0., 40.,  0.],\n",
              "       ...,\n",
              "       [40., 10.,  4., ...,  0., 40.,  0.],\n",
              "       [39., 13.,  4., ...,  0., 50.,  1.],\n",
              "       [50.,  9.,  4., ...,  0., 40.,  0.]])"
            ]
          },
          "metadata": {},
          "execution_count": 41
        }
      ]
    },
    {
      "cell_type": "markdown",
      "source": [
        "# Step 3 : Check if it's a young country or old country"
      ],
      "metadata": {
        "id": "i_5WAJWYWHpL"
      }
    },
    {
      "cell_type": "markdown",
      "source": [
        " Create a new array called 'age' by taking only age column(age is the column with index 0) of 'census' array."
      ],
      "metadata": {
        "id": "_CqLiA9OWQPm"
      }
    },
    {
      "cell_type": "code",
      "source": [
        "age=data[:,0]\n",
        "age"
      ],
      "metadata": {
        "id": "u-v0CJlJf8XA",
        "colab": {
          "base_uri": "https://localhost:8080/"
        },
        "outputId": "95fd4419-e531-4afe-b790-ec8ee3de9b9b"
      },
      "execution_count": 7,
      "outputs": [
        {
          "output_type": "execute_result",
          "data": {
            "text/plain": [
              "array([39., 50., 38., 53., 28., 37., 49., 52., 31., 42., 37., 30., 23.,\n",
              "       32., 40., 34., 25., 32., 38., 43., 40., 54., 35., 43., 59., 56.,\n",
              "       19., 54., 39., 49., 23., 20., 45., 30., 22., 48., 21., 19., 31.,\n",
              "       48., 31., 53., 24., 49., 25., 57., 53., 44., 41., 29., 25., 18.,\n",
              "       47., 50., 47., 43., 46., 35., 41., 30., 30., 32., 48., 42., 29.,\n",
              "       36., 28., 53., 49., 25., 19., 31., 29., 23., 79., 27., 40., 67.,\n",
              "       18., 31., 18., 52., 46., 59., 44., 53., 49., 33., 30., 43., 57.,\n",
              "       37., 28., 30., 34., 29., 48., 37., 48., 32., 76., 44., 47., 20.,\n",
              "       29., 32., 17., 30., 31., 42., 24., 38., 56., 28., 36., 53., 56.,\n",
              "       49., 55., 22., 21., 40., 30., 29., 19., 47., 20., 31., 35., 39.,\n",
              "       28., 24., 38., 37., 46., 38., 43., 27., 20., 49., 61., 27., 19.,\n",
              "       45., 70., 31., 22., 36., 64., 43., 47., 34., 33., 21., 52., 48.,\n",
              "       23., 71., 29., 42., 68., 25., 44., 28., 45., 36., 39., 46., 18.,\n",
              "       66., 27., 28., 51., 27., 28., 27., 21., 34., 18., 33., 44., 43.,\n",
              "       30., 40., 37., 34., 41., 53., 31., 58., 38., 24., 41., 47., 41.,\n",
              "       23., 36., 40., 35., 24., 26., 19., 51., 42., 37., 18., 36., 35.,\n",
              "       58., 17., 44., 37., 35., 60., 54., 37., 50., 38., 45., 25., 31.,\n",
              "       64., 90., 54., 53., 18., 60., 66., 75., 65., 35., 41., 25., 33.,\n",
              "       28., 59., 40., 41., 38., 23., 40., 41., 24., 20., 38., 56., 58.,\n",
              "       32., 40., 45., 41., 42., 59., 19., 58., 42., 20., 32., 45., 50.,\n",
              "       36., 45., 17., 59., 26., 37., 19., 64., 33., 33., 61., 17., 50.,\n",
              "       27., 30., 43., 44., 35., 25., 24., 22., 42., 34., 60., 21., 57.,\n",
              "       41., 50., 25., 50., 36., 31., 29., 21., 27., 65., 37., 39., 24.,\n",
              "       38., 48., 21., 31., 55., 24., 43., 26., 46., 35., 41., 26., 34.,\n",
              "       19., 36., 22., 24., 77., 22., 29., 62., 39., 43., 35., 29., 76.,\n",
              "       63., 23., 43., 58., 66., 41., 26., 47., 55., 53., 17., 30., 49.,\n",
              "       19., 45., 26., 38., 36., 33., 22., 43., 67., 30., 56., 31., 33.,\n",
              "       26., 33., 46., 59., 38., 65., 40., 42., 26., 36., 62., 43., 43.,\n",
              "       22., 28., 56., 22., 57., 39., 26., 17., 40., 45., 44., 20., 33.,\n",
              "       23., 46., 38., 54., 46., 25., 46., 36., 23., 29., 44., 19., 19.,\n",
              "       35., 27., 46., 34., 34., 44., 45., 20., 25., 52., 20., 28., 50.,\n",
              "       34., 28., 41., 28., 46., 28., 32., 41., 24., 33., 46., 31., 35.,\n",
              "       52., 30., 34., 34., 20., 17., 32., 29., 33., 25., 36., 23., 63.,\n",
              "       47., 80., 17., 40., 30., 27., 33., 34., 34., 23., 42., 29., 45.,\n",
              "       24., 44., 27., 20., 44., 51., 20., 17., 19., 45., 60., 42., 44.,\n",
              "       40., 30., 38., 23., 32., 44., 54., 32., 50., 24., 37., 52., 38.,\n",
              "       49., 30., 60., 22., 35., 30., 67., 46., 17., 22., 27., 23., 33.,\n",
              "       43., 28., 41., 52., 25., 63., 59., 45., 38., 40., 46., 35., 34.,\n",
              "       33., 41., 20., 23., 26., 72., 23., 62., 52., 58., 25., 24., 19.,\n",
              "       43., 47., 39., 49., 53., 32., 34., 28., 57., 25., 20., 21., 34.,\n",
              "       38., 50., 24., 37., 44., 28., 42., 74., 38., 44., 44., 26., 36.,\n",
              "       41., 67., 39., 57., 29., 31., 34., 44., 29., 30., 27., 27., 32.,\n",
              "       58., 35., 21., 28., 46., 36., 72., 35., 33., 69., 35., 31., 34.,\n",
              "       30., 28., 54., 47., 24., 52., 20., 43., 45., 29., 47., 24., 51.,\n",
              "       17., 37., 27., 29., 18., 36., 58., 26., 65., 57., 59., 27., 31.,\n",
              "       21., 29., 18., 52., 57., 42., 55., 60., 31., 23., 27., 23., 42.,\n",
              "       25., 49., 32., 19., 60., 42., 35., 48., 51., 29., 36., 17., 52.,\n",
              "       24., 24., 26., 27., 39., 30., 50., 52., 46., 23., 45., 65., 29.,\n",
              "       47., 30., 34., 38., 33., 49., 47., 49., 43., 30., 58., 19., 21.,\n",
              "       33., 47., 52., 26., 60., 21., 36., 31., 50., 31., 71., 58., 30.,\n",
              "       20., 24., 35., 38., 27., 29., 70., 34., 44., 43., 44., 35., 27.,\n",
              "       43., 20., 42., 27., 42., 20., 24., 48., 17., 17., 33., 50., 22.,\n",
              "       17., 32., 31., 58., 29., 37., 34., 23., 18., 34., 66., 45., 41.,\n",
              "       26., 54., 24., 42., 20., 23., 25., 35., 31., 30., 19., 36., 31.,\n",
              "       21., 31., 46., 44., 40., 45., 60., 18., 28., 36., 36., 40., 36.,\n",
              "       31., 33., 19., 22., 34., 33., 41., 29., 50., 42., 43., 44., 20.,\n",
              "       31., 65., 23., 55., 26., 25., 45., 35., 36., 43., 56., 42., 19.,\n",
              "       55., 42., 26., 17., 42., 55., 32., 29., 46., 29., 22., 58., 23.,\n",
              "       39., 27., 54., 33., 46., 37., 36., 59., 34., 53., 51., 32., 31.,\n",
              "       22., 47., 32., 26., 37., 31., 37., 55., 23., 36., 34., 43., 54.,\n",
              "       43., 28., 40., 41., 40., 42., 61., 18., 59., 21., 48., 41., 18.,\n",
              "       23., 60., 22., 61., 25., 46., 43., 43., 24., 68., 31., 17., 32.,\n",
              "       50., 33., 64., 20., 30., 22., 43., 22., 17., 47., 41., 56., 64.,\n",
              "       47., 48., 31., 29., 30., 32., 57., 62., 39., 43., 24., 42., 53.,\n",
              "       26., 73., 72., 55., 25., 41., 24., 63., 17., 35., 51., 62., 55.,\n",
              "       43., 40., 37., 39., 31., 61., 26., 46., 26., 48., 34., 34., 59.,\n",
              "       34., 49., 18., 43., 48., 28., 33., 24., 21., 17., 39., 29., 44.,\n",
              "       24., 71., 51., 55., 41., 23., 38., 39., 19., 49., 32., 27., 38.,\n",
              "       33., 63., 23., 33., 54., 29., 48., 35., 28., 37., 42., 40., 47.,\n",
              "       22., 30., 28., 63., 51., 22., 27., 35., 46., 37., 24., 37., 53.,\n",
              "       27., 38., 53., 34., 23., 39., 43., 67., 81., 21., 23., 25., 42.,\n",
              "       38., 64., 32., 37., 51., 22., 33., 42., 19., 51., 23., 37., 37.,\n",
              "       47., 41., 33., 31., 31., 35., 38., 18., 20., 54., 40., 36., 43.,\n",
              "       44., 44., 43., 51., 18., 51., 41., 44., 33., 33., 42., 25., 32.,\n",
              "       32., 36., 28., 20., 35., 55., 48., 36., 34., 28., 67., 37., 44.,\n",
              "       25., 21., 40., 78., 34., 49., 22., 23., 60., 45., 63., 41., 47.,\n",
              "       44., 51., 46., 41., 50., 47., 35., 56., 45., 48., 40., 39.])"
            ]
          },
          "metadata": {},
          "execution_count": 7
        }
      ]
    },
    {
      "cell_type": "markdown",
      "source": [
        "Find the max age and store it in a variable called 'max_age'.\n",
        "\n"
      ],
      "metadata": {
        "id": "_IyNXVKqWpPS"
      }
    },
    {
      "cell_type": "code",
      "source": [
        "#print the max_age\n",
        "max_age=age.max()\n",
        "max_age"
      ],
      "metadata": {
        "id": "tczhOTFif33u",
        "colab": {
          "base_uri": "https://localhost:8080/"
        },
        "outputId": "62f873fe-d9bd-4c64-d0a1-c0698782ea5a"
      },
      "execution_count": null,
      "outputs": [
        {
          "output_type": "execute_result",
          "data": {
            "text/plain": [
              "90.0"
            ]
          },
          "metadata": {},
          "execution_count": 29
        }
      ]
    },
    {
      "cell_type": "markdown",
      "source": [
        "Find the min age and store it in a variable called 'min_age'."
      ],
      "metadata": {
        "id": "ywrTp3KTWu9z"
      }
    },
    {
      "cell_type": "code",
      "source": [
        "#print the min_age\n",
        "min_age=age.min()\n",
        "min_age"
      ],
      "metadata": {
        "id": "QJ1VfCH7f0RG",
        "colab": {
          "base_uri": "https://localhost:8080/"
        },
        "outputId": "99b579b0-caf7-41c3-b1ab-d035ad5daa44"
      },
      "execution_count": null,
      "outputs": [
        {
          "output_type": "execute_result",
          "data": {
            "text/plain": [
              "17.0"
            ]
          },
          "metadata": {},
          "execution_count": 30
        }
      ]
    },
    {
      "cell_type": "markdown",
      "source": [
        "Find the mean of the age and store it in a variable called 'age_mean'."
      ],
      "metadata": {
        "id": "k6TqZMYQd8w1"
      }
    },
    {
      "cell_type": "code",
      "source": [
        "#print the age_mean\n",
        "age_mean=age.mean()\n",
        "age_mean"
      ],
      "metadata": {
        "colab": {
          "base_uri": "https://localhost:8080/"
        },
        "id": "7dTC5eaIXs__",
        "outputId": "0d0c6e15-317d-4e98-fb8d-a765f7623d51"
      },
      "execution_count": null,
      "outputs": [
        {
          "output_type": "execute_result",
          "data": {
            "text/plain": [
              "38.051"
            ]
          },
          "metadata": {},
          "execution_count": 35
        }
      ]
    },
    {
      "cell_type": "markdown",
      "source": [
        "Find the standard deviation of the age and store it in a variable called 'age_std'"
      ],
      "metadata": {
        "id": "GEDv3kfSeF9p"
      }
    },
    {
      "cell_type": "code",
      "source": [
        "#print the age_std\n",
        "age_std=age.std()\n",
        "age_std"
      ],
      "metadata": {
        "colab": {
          "base_uri": "https://localhost:8080/"
        },
        "id": "SF33E4XbX8Yi",
        "outputId": "5227ef15-d904-464b-a807-12c97bb08c3b"
      },
      "execution_count": null,
      "outputs": [
        {
          "output_type": "execute_result",
          "data": {
            "text/plain": [
              "13.342803266180612"
            ]
          },
          "metadata": {},
          "execution_count": 32
        }
      ]
    },
    {
      "cell_type": "markdown",
      "source": [
        "# Step 4: Let's check the country's race distribution to identify the minorities"
      ],
      "metadata": {
        "id": "zfJWcybQecKB"
      }
    },
    {
      "cell_type": "markdown",
      "source": [
        "Create four different arrays by subsetting 'census' array by Race column(Race is the column with index 2) and save them in 'race_0','race_1', 'race_2', 'race_3' and 'race_4' respectively(Meaning: Store the array where 'race'column has value 0 in 'race_0', so on and so forth)"
      ],
      "metadata": {
        "id": "SrvNIFGvef4r"
      }
    },
    {
      "cell_type": "code",
      "source": [
        "race_0 = data[data[:, 2] == 0]\n",
        "race_1 = data[data[:, 2] == 1]\n",
        "race_2 = data[data[:, 2] == 2]\n",
        "race_3 = data[data[:, 2] == 3]\n",
        "race_4 = data[data[:, 2] == 4]\n",
        "\n",
        "print(f\"Race 0: {race_0}\\n\")\n",
        "# print(f\"Race 1:{race_1}\\n\")\n",
        "# print(f\"Race 2:{race_2}\\n\")\n",
        "# print(f\"Race 3:{race_3}\\n\")\n",
        "# print(f\"Race 4:{race_4}\\n\")\n"
      ],
      "metadata": {
        "colab": {
          "base_uri": "https://localhost:8080/"
        },
        "id": "2iaIx6n6YHPh",
        "outputId": "36a41390-b505-4a79-eeaf-13b4ce9b0e23"
      },
      "execution_count": null,
      "outputs": [
        {
          "output_type": "stream",
          "name": "stdout",
          "text": [
            "Race 0: [[34.  4.  0.  1.  0.  0. 45.  0.]\n",
            " [35. 10.  0.  0.  0.  0. 40.  0.]\n",
            " [60.  6.  0.  0.  0.  0. 10.  0.]\n",
            " [51.  9.  0.  1.  0.  0. 40.  0.]\n",
            " [25. 10.  0.  0.  0.  0. 20.  0.]\n",
            " [20.  9.  0.  1.  0.  0. 48.  0.]\n",
            " [23. 10.  0.  0.  0.  0. 25.  0.]\n",
            " [29.  9.  0.  1.  0.  0. 40.  0.]\n",
            " [27. 12.  0.  1.  0.  0. 40.  0.]\n",
            " [31. 12.  0.  0.  0.  0. 40.  0.]]\n",
            "\n"
          ]
        }
      ]
    },
    {
      "cell_type": "code",
      "source": [],
      "metadata": {
        "id": "OEz-yzfrYxFC"
      },
      "execution_count": null,
      "outputs": []
    },
    {
      "cell_type": "markdown",
      "source": [
        "Store the length of the above created arrays in 'len_0', 'len_1','len_2', 'len_3' and 'len_4' respectively"
      ],
      "metadata": {
        "id": "thg4wOEQeo1x"
      }
    },
    {
      "cell_type": "code",
      "source": [
        "len_0=len(race_0)\n",
        "len_0"
      ],
      "metadata": {
        "id": "6Nbz3CBkZHLY",
        "colab": {
          "base_uri": "https://localhost:8080/"
        },
        "outputId": "7a242ab3-1a42-4e63-a20a-cd99c47d1f50"
      },
      "execution_count": null,
      "outputs": [
        {
          "output_type": "execute_result",
          "data": {
            "text/plain": [
              "10"
            ]
          },
          "metadata": {},
          "execution_count": 43
        }
      ]
    },
    {
      "cell_type": "code",
      "source": [
        "len_1=len(race_1)\n",
        "len_1"
      ],
      "metadata": {
        "id": "Zm0CnpfHaWQ7",
        "colab": {
          "base_uri": "https://localhost:8080/"
        },
        "outputId": "9b14aff5-b482-4f21-a96b-c7ff735ed2b0"
      },
      "execution_count": null,
      "outputs": [
        {
          "output_type": "execute_result",
          "data": {
            "text/plain": [
              "27"
            ]
          },
          "metadata": {},
          "execution_count": 45
        }
      ]
    },
    {
      "cell_type": "code",
      "source": [
        "len_2=len(race_2)\n",
        "len_2"
      ],
      "metadata": {
        "id": "BmTApcJTab3j",
        "colab": {
          "base_uri": "https://localhost:8080/"
        },
        "outputId": "bcf030d3-8970-4f04-d1af-d701e2954f98"
      },
      "execution_count": null,
      "outputs": [
        {
          "output_type": "execute_result",
          "data": {
            "text/plain": [
              "110"
            ]
          },
          "metadata": {},
          "execution_count": 49
        }
      ]
    },
    {
      "cell_type": "code",
      "source": [
        "len_3=len(race_3)\n",
        "len_3"
      ],
      "metadata": {
        "id": "O-SEHnv9afoQ",
        "colab": {
          "base_uri": "https://localhost:8080/"
        },
        "outputId": "ee658170-732c-4389-8a9a-8f72aeb0ba92"
      },
      "execution_count": null,
      "outputs": [
        {
          "output_type": "execute_result",
          "data": {
            "text/plain": [
              "6"
            ]
          },
          "metadata": {},
          "execution_count": 47
        }
      ]
    },
    {
      "cell_type": "code",
      "source": [
        "len_4=len(race_4)\n",
        "len_4"
      ],
      "metadata": {
        "id": "HksygZJFaogo",
        "colab": {
          "base_uri": "https://localhost:8080/"
        },
        "outputId": "190c51c2-e985-47a2-c479-bcf31c2e0588"
      },
      "execution_count": null,
      "outputs": [
        {
          "output_type": "execute_result",
          "data": {
            "text/plain": [
              "847"
            ]
          },
          "metadata": {},
          "execution_count": 48
        }
      ]
    },
    {
      "cell_type": "markdown",
      "source": [
        "Find out which is the race with the minimum no. of citizens"
      ],
      "metadata": {
        "id": "p57jTibJezYj"
      }
    },
    {
      "cell_type": "code",
      "source": [
        "min_citizen=np.argmin([ 'len_0', 'len_1','len_2', 'len_3' ,'len_4' ])\n",
        "print(f\"The race with minimum citizens is Race : {min_citizen}\")"
      ],
      "metadata": {
        "id": "axqxJHRBdMQL",
        "colab": {
          "base_uri": "https://localhost:8080/"
        },
        "outputId": "1eec206d-ff0b-457a-845a-7e8bfe45358e"
      },
      "execution_count": null,
      "outputs": [
        {
          "output_type": "stream",
          "name": "stdout",
          "text": [
            "The race with minimum citizens is Race : 0\n"
          ]
        }
      ]
    },
    {
      "cell_type": "markdown",
      "source": [
        "Find out which is the race with the minimum no. of citizens"
      ],
      "metadata": {
        "id": "yJVgGJLgfJcV"
      }
    },
    {
      "cell_type": "code",
      "source": [
        "max_citizen=np.argmax([ 'len_0', 'len_1','len_2', 'len_3' ,'len_4' ])\n",
        "print(f\"The race with maximum citizens is Race : {max_citizen}\")"
      ],
      "metadata": {
        "id": "LnvFjvidgdzb",
        "colab": {
          "base_uri": "https://localhost:8080/"
        },
        "outputId": "ef76cc4b-76c1-4da5-fe1f-599ebf66e33a"
      },
      "execution_count": null,
      "outputs": [
        {
          "output_type": "stream",
          "name": "stdout",
          "text": [
            "The race with maximum citizens is Race : 4\n"
          ]
        }
      ]
    },
    {
      "cell_type": "markdown",
      "source": [
        "Store the number associated with the minority race in a variable called 'minority_race'(For eg: if \"len(race_5)\" is the minimum, store 5 in 'minority_race' because that is the index of the race having the least no. of citizens )"
      ],
      "metadata": {
        "id": "OJmzGHoZfSHv"
      }
    },
    {
      "cell_type": "code",
      "source": [
        "minority_race=np.argmin([ 'len_0', 'len_1','len_2', 'len_3' ,'len_4' ])\n",
        "minority_race"
      ],
      "metadata": {
        "id": "xi96yzv9gmar",
        "colab": {
          "base_uri": "https://localhost:8080/"
        },
        "outputId": "261ab0a4-a8b6-4d95-e117-78b1c6b48143"
      },
      "execution_count": null,
      "outputs": [
        {
          "output_type": "execute_result",
          "data": {
            "text/plain": [
              "0"
            ]
          },
          "metadata": {},
          "execution_count": 59
        }
      ]
    },
    {
      "cell_type": "markdown",
      "source": [
        "Store the number associated with the minority race in a variable called 'minority_race'(For eg: if \"len(race_5)\" is the minimum, store 5 in 'minority_race' because that is the index of the race having the least no. of citizens )"
      ],
      "metadata": {
        "id": "jrg7qCPZhwnu"
      }
    },
    {
      "cell_type": "code",
      "source": [
        "majority_race = np.argmax([ 'len_0', 'len_1','len_2', 'len_3' ,'len_4' ])\n",
        "majority_race"
      ],
      "metadata": {
        "id": "A3IPB6qMgocF",
        "colab": {
          "base_uri": "https://localhost:8080/"
        },
        "outputId": "640be5d0-4276-4224-97bd-132d90827b26"
      },
      "execution_count": null,
      "outputs": [
        {
          "output_type": "execute_result",
          "data": {
            "text/plain": [
              "4"
            ]
          },
          "metadata": {},
          "execution_count": 60
        }
      ]
    },
    {
      "cell_type": "markdown",
      "source": [
        "# Step 5: As per govt. records citizens above 60 should not work more than 25 hours a week. Let us check if the policy is in place"
      ],
      "metadata": {
        "id": "E1Rwgqxf9F9V"
      }
    },
    {
      "cell_type": "markdown",
      "source": [
        "a.Create a new subset array called 'senior_citizens' by filtering 'census' according to age>60 (age is the column with index 0)"
      ],
      "metadata": {
        "id": "XT4Jy_Wn9Vww"
      }
    },
    {
      "cell_type": "markdown",
      "source": [
        "[Row,Columns]  :"
      ],
      "metadata": {
        "id": "6AEHuxcS-uGh"
      }
    },
    {
      "cell_type": "code",
      "source": [
        "#from age column, filter out age data > 60\n",
        "senior_citizens = data[np.where(data[:, 0] > 60)]\n",
        "senior_citizens"
      ],
      "metadata": {
        "colab": {
          "base_uri": "https://localhost:8080/"
        },
        "id": "oX6E5VZv9Z4j",
        "outputId": "0a1158cc-d1f3-4033-c59b-e8403d274635"
      },
      "execution_count": null,
      "outputs": [
        {
          "output_type": "execute_result",
          "data": {
            "text/plain": [
              "array([[7.9000e+01, 1.0000e+01, 4.0000e+00, 1.0000e+00, 0.0000e+00,\n",
              "        0.0000e+00, 2.0000e+01, 0.0000e+00],\n",
              "       [6.7000e+01, 6.0000e+00, 4.0000e+00, 1.0000e+00, 0.0000e+00,\n",
              "        0.0000e+00, 2.0000e+00, 0.0000e+00],\n",
              "       [7.6000e+01, 1.4000e+01, 4.0000e+00, 1.0000e+00, 0.0000e+00,\n",
              "        0.0000e+00, 4.0000e+01, 1.0000e+00],\n",
              "       [6.1000e+01, 9.0000e+00, 4.0000e+00, 1.0000e+00, 0.0000e+00,\n",
              "        0.0000e+00, 4.0000e+01, 0.0000e+00],\n",
              "       [7.0000e+01, 1.0000e+01, 4.0000e+00, 1.0000e+00, 0.0000e+00,\n",
              "        0.0000e+00, 4.0000e+01, 0.0000e+00],\n",
              "       [6.4000e+01, 7.0000e+00, 4.0000e+00, 1.0000e+00, 0.0000e+00,\n",
              "        2.1790e+03, 4.0000e+01, 0.0000e+00],\n",
              "       [7.1000e+01, 1.0000e+01, 2.0000e+00, 1.0000e+00, 0.0000e+00,\n",
              "        1.8160e+03, 2.0000e+00, 0.0000e+00],\n",
              "       [6.8000e+01, 2.0000e+00, 4.0000e+00, 0.0000e+00, 0.0000e+00,\n",
              "        0.0000e+00, 2.0000e+01, 0.0000e+00],\n",
              "       [6.6000e+01, 1.1000e+01, 4.0000e+00, 0.0000e+00, 0.0000e+00,\n",
              "        0.0000e+00, 2.0000e+01, 0.0000e+00],\n",
              "       [6.4000e+01, 2.0000e+00, 4.0000e+00, 1.0000e+00, 0.0000e+00,\n",
              "        0.0000e+00, 4.0000e+01, 0.0000e+00],\n",
              "       [9.0000e+01, 9.0000e+00, 2.0000e+00, 1.0000e+00, 0.0000e+00,\n",
              "        2.2060e+03, 4.0000e+01, 0.0000e+00],\n",
              "       [6.6000e+01, 9.0000e+00, 4.0000e+00, 1.0000e+00, 1.4090e+03,\n",
              "        0.0000e+00, 5.0000e+01, 0.0000e+00],\n",
              "       [7.5000e+01, 1.1000e+01, 4.0000e+00, 0.0000e+00, 0.0000e+00,\n",
              "        0.0000e+00, 2.0000e+01, 0.0000e+00],\n",
              "       [6.5000e+01, 9.0000e+00, 4.0000e+00, 0.0000e+00, 0.0000e+00,\n",
              "        0.0000e+00, 4.0000e+01, 0.0000e+00],\n",
              "       [6.4000e+01, 9.0000e+00, 4.0000e+00, 1.0000e+00, 0.0000e+00,\n",
              "        0.0000e+00, 4.0000e+01, 1.0000e+00],\n",
              "       [6.1000e+01, 9.0000e+00, 4.0000e+00, 1.0000e+00, 0.0000e+00,\n",
              "        0.0000e+00, 4.0000e+01, 1.0000e+00],\n",
              "       [6.5000e+01, 9.0000e+00, 4.0000e+00, 1.0000e+00, 0.0000e+00,\n",
              "        0.0000e+00, 1.6000e+01, 0.0000e+00],\n",
              "       [7.7000e+01, 1.0000e+01, 4.0000e+00, 1.0000e+00, 0.0000e+00,\n",
              "        0.0000e+00, 4.0000e+01, 0.0000e+00],\n",
              "       [6.2000e+01, 9.0000e+00, 4.0000e+00, 0.0000e+00, 0.0000e+00,\n",
              "        0.0000e+00, 2.4000e+01, 0.0000e+00],\n",
              "       [7.6000e+01, 1.4000e+01, 4.0000e+00, 1.0000e+00, 0.0000e+00,\n",
              "        0.0000e+00, 1.0000e+01, 0.0000e+00],\n",
              "       [6.3000e+01, 9.0000e+00, 4.0000e+00, 1.0000e+00, 0.0000e+00,\n",
              "        0.0000e+00, 4.5000e+01, 0.0000e+00],\n",
              "       [6.6000e+01, 9.0000e+00, 4.0000e+00, 1.0000e+00, 2.0500e+03,\n",
              "        0.0000e+00, 5.5000e+01, 0.0000e+00],\n",
              "       [6.7000e+01, 7.0000e+00, 4.0000e+00, 1.0000e+00, 0.0000e+00,\n",
              "        0.0000e+00, 8.0000e+00, 0.0000e+00],\n",
              "       [6.5000e+01, 7.0000e+00, 3.0000e+00, 1.0000e+00, 0.0000e+00,\n",
              "        0.0000e+00, 4.0000e+01, 0.0000e+00],\n",
              "       [6.2000e+01, 1.4000e+01, 4.0000e+00, 1.0000e+00, 0.0000e+00,\n",
              "        0.0000e+00, 4.0000e+01, 1.0000e+00],\n",
              "       [6.3000e+01, 9.0000e+00, 4.0000e+00, 1.0000e+00, 0.0000e+00,\n",
              "        0.0000e+00, 4.0000e+01, 1.0000e+00],\n",
              "       [8.0000e+01, 9.0000e+00, 4.0000e+00, 1.0000e+00, 0.0000e+00,\n",
              "        0.0000e+00, 2.4000e+01, 0.0000e+00],\n",
              "       [6.7000e+01, 1.1000e+01, 4.0000e+00, 0.0000e+00, 0.0000e+00,\n",
              "        0.0000e+00, 2.4000e+01, 0.0000e+00],\n",
              "       [6.3000e+01, 2.0000e+00, 4.0000e+00, 1.0000e+00, 0.0000e+00,\n",
              "        0.0000e+00, 3.5000e+01, 0.0000e+00],\n",
              "       [7.2000e+01, 9.0000e+00, 4.0000e+00, 1.0000e+00, 0.0000e+00,\n",
              "        0.0000e+00, 2.0000e+01, 0.0000e+00],\n",
              "       [6.2000e+01, 9.0000e+00, 4.0000e+00, 1.0000e+00, 0.0000e+00,\n",
              "        0.0000e+00, 4.0000e+01, 0.0000e+00],\n",
              "       [7.4000e+01, 1.0000e+01, 4.0000e+00, 0.0000e+00, 0.0000e+00,\n",
              "        0.0000e+00, 9.0000e+00, 0.0000e+00],\n",
              "       [6.7000e+01, 1.5000e+01, 4.0000e+00, 1.0000e+00, 2.0051e+04,\n",
              "        0.0000e+00, 4.8000e+01, 1.0000e+00],\n",
              "       [7.2000e+01, 7.0000e+00, 4.0000e+00, 0.0000e+00, 0.0000e+00,\n",
              "        0.0000e+00, 4.0000e+01, 0.0000e+00],\n",
              "       [6.9000e+01, 7.0000e+00, 4.0000e+00, 0.0000e+00, 0.0000e+00,\n",
              "        0.0000e+00, 4.0000e+01, 0.0000e+00],\n",
              "       [6.5000e+01, 1.0000e+01, 4.0000e+00, 1.0000e+00, 0.0000e+00,\n",
              "        0.0000e+00, 3.0000e+01, 1.0000e+00],\n",
              "       [6.5000e+01, 5.0000e+00, 2.0000e+00, 0.0000e+00, 0.0000e+00,\n",
              "        0.0000e+00, 2.4000e+01, 0.0000e+00],\n",
              "       [7.1000e+01, 9.0000e+00, 4.0000e+00, 1.0000e+00, 0.0000e+00,\n",
              "        0.0000e+00, 1.5000e+01, 0.0000e+00],\n",
              "       [7.0000e+01, 5.0000e+00, 4.0000e+00, 0.0000e+00, 1.1110e+03,\n",
              "        0.0000e+00, 1.5000e+01, 0.0000e+00],\n",
              "       [6.6000e+01, 4.0000e+00, 4.0000e+00, 1.0000e+00, 0.0000e+00,\n",
              "        0.0000e+00, 4.0000e+00, 0.0000e+00],\n",
              "       [6.5000e+01, 7.0000e+00, 4.0000e+00, 1.0000e+00, 9.3860e+03,\n",
              "        0.0000e+00, 5.9000e+01, 1.0000e+00],\n",
              "       [6.1000e+01, 9.0000e+00, 4.0000e+00, 1.0000e+00, 0.0000e+00,\n",
              "        2.3520e+03, 5.0000e+01, 0.0000e+00],\n",
              "       [6.1000e+01, 9.0000e+00, 4.0000e+00, 1.0000e+00, 0.0000e+00,\n",
              "        0.0000e+00, 4.0000e+01, 0.0000e+00],\n",
              "       [6.8000e+01, 7.0000e+00, 4.0000e+00, 1.0000e+00, 0.0000e+00,\n",
              "        0.0000e+00, 2.0000e+01, 0.0000e+00],\n",
              "       [6.4000e+01, 1.3000e+01, 4.0000e+00, 1.0000e+00, 0.0000e+00,\n",
              "        0.0000e+00, 4.0000e+01, 1.0000e+00],\n",
              "       [6.4000e+01, 9.0000e+00, 4.0000e+00, 1.0000e+00, 0.0000e+00,\n",
              "        0.0000e+00, 4.5000e+01, 0.0000e+00],\n",
              "       [6.2000e+01, 9.0000e+00, 4.0000e+00, 0.0000e+00, 0.0000e+00,\n",
              "        0.0000e+00, 4.0000e+01, 0.0000e+00],\n",
              "       [7.3000e+01, 9.0000e+00, 4.0000e+00, 1.0000e+00, 0.0000e+00,\n",
              "        0.0000e+00, 4.0000e+01, 0.0000e+00],\n",
              "       [7.2000e+01, 7.0000e+00, 4.0000e+00, 0.0000e+00, 0.0000e+00,\n",
              "        0.0000e+00, 2.4000e+01, 0.0000e+00],\n",
              "       [6.3000e+01, 9.0000e+00, 4.0000e+00, 1.0000e+00, 0.0000e+00,\n",
              "        0.0000e+00, 6.0000e+00, 0.0000e+00],\n",
              "       [6.2000e+01, 1.3000e+01, 4.0000e+00, 0.0000e+00, 0.0000e+00,\n",
              "        0.0000e+00, 4.8000e+01, 0.0000e+00],\n",
              "       [6.1000e+01, 1.4000e+01, 4.0000e+00, 0.0000e+00, 0.0000e+00,\n",
              "        0.0000e+00, 4.0000e+01, 1.0000e+00],\n",
              "       [7.1000e+01, 1.4000e+01, 4.0000e+00, 1.0000e+00, 1.0605e+04,\n",
              "        0.0000e+00, 4.0000e+01, 1.0000e+00],\n",
              "       [6.3000e+01, 1.0000e+01, 4.0000e+00, 1.0000e+00, 0.0000e+00,\n",
              "        0.0000e+00, 1.5000e+01, 0.0000e+00],\n",
              "       [6.3000e+01, 4.0000e+00, 4.0000e+00, 1.0000e+00, 0.0000e+00,\n",
              "        0.0000e+00, 5.5000e+01, 0.0000e+00],\n",
              "       [6.7000e+01, 9.0000e+00, 1.0000e+00, 1.0000e+00, 0.0000e+00,\n",
              "        0.0000e+00, 4.0000e+01, 1.0000e+00],\n",
              "       [8.1000e+01, 9.0000e+00, 4.0000e+00, 1.0000e+00, 0.0000e+00,\n",
              "        0.0000e+00, 3.0000e+01, 0.0000e+00],\n",
              "       [6.4000e+01, 9.0000e+00, 4.0000e+00, 1.0000e+00, 0.0000e+00,\n",
              "        0.0000e+00, 5.0000e+00, 0.0000e+00],\n",
              "       [6.7000e+01, 1.3000e+01, 4.0000e+00, 1.0000e+00, 0.0000e+00,\n",
              "        2.3920e+03, 4.0000e+01, 1.0000e+00],\n",
              "       [7.8000e+01, 9.0000e+00, 2.0000e+00, 0.0000e+00, 2.9640e+03,\n",
              "        0.0000e+00, 4.0000e+01, 0.0000e+00],\n",
              "       [6.3000e+01, 1.1000e+01, 4.0000e+00, 0.0000e+00, 0.0000e+00,\n",
              "        0.0000e+00, 2.0000e+01, 0.0000e+00]])"
            ]
          },
          "metadata": {},
          "execution_count": 64
        }
      ]
    },
    {
      "cell_type": "markdown",
      "source": [
        "b.Add all the working hours(working hours is the column with index 6) of 'senior_citizens' and store it in a variable called 'working_hours_sum'"
      ],
      "metadata": {
        "id": "mDbsg8N0_K8b"
      }
    },
    {
      "cell_type": "code",
      "source": [
        "working_hours_sum=senior_citizens[:,6].sum()\n",
        "working_hours_sum"
      ],
      "metadata": {
        "id": "fYZTR7EMgupn",
        "colab": {
          "base_uri": "https://localhost:8080/"
        },
        "outputId": "365bc458-7612-4d8d-9193-c36e75a6761c"
      },
      "execution_count": null,
      "outputs": [
        {
          "output_type": "execute_result",
          "data": {
            "text/plain": [
              "1917.0"
            ]
          },
          "metadata": {},
          "execution_count": 65
        }
      ]
    },
    {
      "cell_type": "markdown",
      "source": [
        "c.Find the length of 'senior_citizens' and store it in a variable called 'senior_citizens_len'"
      ],
      "metadata": {
        "id": "l4h6_8DfBD9x"
      }
    },
    {
      "cell_type": "code",
      "source": [
        "senior_citizens_len=len(senior_citizens)\n",
        "senior_citizens_len"
      ],
      "metadata": {
        "id": "pPExiV83gwaC",
        "colab": {
          "base_uri": "https://localhost:8080/"
        },
        "outputId": "9dd5ec85-5127-4231-c1b1-1a99bbeeb7bd"
      },
      "execution_count": null,
      "outputs": [
        {
          "output_type": "execute_result",
          "data": {
            "text/plain": [
              "61"
            ]
          },
          "metadata": {},
          "execution_count": 66
        }
      ]
    },
    {
      "cell_type": "markdown",
      "source": [
        "d. Finally find the average working hours of the senior citizens by dividing 'working_hours_sum' by 'senior_citizens_len' and store it in a variable called 'avg_working hours'."
      ],
      "metadata": {
        "id": "-6mWgLiXBgAW"
      }
    },
    {
      "cell_type": "code",
      "source": [
        "avg_working_hours= working_hours_sum/senior_citizens_len\n",
        "avg_working_hours"
      ],
      "metadata": {
        "id": "AOwajHabgy29",
        "colab": {
          "base_uri": "https://localhost:8080/"
        },
        "outputId": "98932bd5-747b-456c-da49-47b5c386c817"
      },
      "execution_count": null,
      "outputs": [
        {
          "output_type": "execute_result",
          "data": {
            "text/plain": [
              "31.42622950819672"
            ]
          },
          "metadata": {},
          "execution_count": 67
        }
      ]
    },
    {
      "cell_type": "markdown",
      "source": [
        "e. Print 'avg_working_hours' and see if the govt. policy is followed."
      ],
      "metadata": {
        "id": "VS382pv_CY1Q"
      }
    },
    {
      "cell_type": "code",
      "source": [
        "print(f\" No the policy is not being followed because the average rate is :{avg_working_hours} , exceding the critera.\")"
      ],
      "metadata": {
        "id": "NatAJ4JBgzr4",
        "colab": {
          "base_uri": "https://localhost:8080/"
        },
        "outputId": "9b058b6a-fccc-4fdd-8fe9-ff16fec8f65b"
      },
      "execution_count": null,
      "outputs": [
        {
          "output_type": "stream",
          "name": "stdout",
          "text": [
            " No the policy is not being followed because the average rate is :31.42622950819672 , exceding the critera.\n"
          ]
        }
      ]
    },
    {
      "cell_type": "markdown",
      "source": [
        "# Step 6: Let's check that higher educated people have better pay in general."
      ],
      "metadata": {
        "id": "KRGhpDBKEIa-"
      }
    },
    {
      "cell_type": "markdown",
      "source": [
        "Create two new subset arrays called 'high' and 'low' by filtering 'census' according to education-num>10 and education-num<=10 (education-num is the column with index 1) respectively.\n",
        "\n"
      ],
      "metadata": {
        "id": "-5rc9FarELwP"
      }
    },
    {
      "cell_type": "code",
      "source": [
        "high = data[data[:, 1] > 10]\n",
        "low = data[data[:, 1] <= 10]\n",
        "print(high,low)"
      ],
      "metadata": {
        "id": "GVA3Dgp5g2Ui",
        "colab": {
          "base_uri": "https://localhost:8080/"
        },
        "outputId": "0d728cfb-e709-42c0-f163-3687ec8addeb"
      },
      "execution_count": null,
      "outputs": [
        {
          "output_type": "stream",
          "name": "stdout",
          "text": [
            "[[39. 13.  4. ...  0. 40.  0.]\n",
            " [50. 13.  4. ...  0. 13.  0.]\n",
            " [28. 13.  2. ...  0. 40.  0.]\n",
            " ...\n",
            " [45. 14.  4. ...  0. 45.  0.]\n",
            " [48. 13.  4. ...  0. 58.  1.]\n",
            " [39. 13.  4. ...  0. 50.  1.]] [[38.  9.  4. ...  0. 40.  0.]\n",
            " [53.  7.  2. ...  0. 40.  0.]\n",
            " [49.  5.  2. ...  0. 16.  0.]\n",
            " ...\n",
            " [35.  9.  4. ...  0. 45.  0.]\n",
            " [56.  9.  4. ...  0. 55.  1.]\n",
            " [40. 10.  4. ...  0. 40.  0.]]\n"
          ]
        }
      ]
    },
    {
      "cell_type": "markdown",
      "source": [
        "Find the mean of income column(income is the column with index 7) of 'high' array and store it in 'avg_pay_high'. Do the same for 'low' array and store it's mean in 'avg_pay_low'."
      ],
      "metadata": {
        "id": "I4MwXFEbFEjV"
      }
    },
    {
      "cell_type": "code",
      "source": [
        "avg_pay_high = high[:, 7].mean()\n",
        "avg_pay_low = low[:, 7].mean()\n",
        "print(avg_pay_high,avg_pay_low)\n"
      ],
      "metadata": {
        "colab": {
          "base_uri": "https://localhost:8080/"
        },
        "id": "aaHfrQd1FItV",
        "outputId": "115078ce-e7e9-4759-e39f-91ef6b04f758"
      },
      "execution_count": null,
      "outputs": [
        {
          "output_type": "stream",
          "name": "stdout",
          "text": [
            "0.42813455657492355 0.13670133729569092\n"
          ]
        }
      ]
    },
    {
      "cell_type": "code",
      "source": [],
      "metadata": {
        "colab": {
          "base_uri": "https://localhost:8080/"
        },
        "id": "W4pJ8mhvHjlL",
        "outputId": "717875ad-efee-4549-ecc4-f883c94f561b"
      },
      "execution_count": null,
      "outputs": [
        {
          "output_type": "stream",
          "name": "stdout",
          "text": [
            "average pay for low educated people 0.14\n"
          ]
        }
      ]
    }
  ]
}